{
 "cells": [
  {
   "cell_type": "code",
   "execution_count": null,
   "metadata": {},
   "outputs": [],
   "source": [
    "# default_exp common\n",
    "from nbdev import *\n",
    "from nbdev.showdoc import *"
   ]
  },
  {
   "cell_type": "markdown",
   "metadata": {},
   "source": [
    "# Advent of Code Utils\n",
    "\n",
    "> A collection of somewhat handy functions to make your AoC puzzle life solving a bit easier"
   ]
  },
  {
   "cell_type": "code",
   "execution_count": null,
   "metadata": {},
   "outputs": [],
   "source": [
    "#exporti\n",
    "from collections.abc import Iterable\n",
    "from collections import namedtuple, deque\n",
    "import contextlib\n",
    "from functools import reduce\n",
    "import hashlib\n",
    "import heapq\n",
    "import logging\n",
    "from math import sqrt, gcd\n",
    "from pathlib import Path\n",
    "import time\n",
    "import pickle\n",
    "import pandas as pd\n",
    "import numpy as np\n",
    "\n",
    "DATA_DIR = Path('data')"
   ]
  },
  {
   "cell_type": "markdown",
   "metadata": {},
   "source": [
    "## Quality of Life"
   ]
  },
  {
   "cell_type": "code",
   "execution_count": null,
   "metadata": {},
   "outputs": [],
   "source": [
    "#export\n",
    "def to_int(inp: Iterable, intonly=False): \n",
    "    \"\"\" \n",
    "        returns items converted to int if possible\n",
    "        keeps lists and tuples intact\n",
    "        e.g. to_int(['-12', 2, 'a']) returns [-12, 2, 'a']\n",
    "        watch out because passing a string '12t' will be ripped into a list [1,2,t]\n",
    "    \"\"\"\n",
    "    if isinstance(inp,str):\n",
    "        print('watch out string will be converted into list of characters and single digit ints')\n",
    "    if isinstance(inp[0],list):\n",
    "        return list(to_int(l) for l in inp)\n",
    "    if isinstance(inp[0],tuple):\n",
    "        return tuple(to_int(l) for l in inp)\n",
    "\n",
    "    out = []\n",
    "    for i in inp:\n",
    "        try:\n",
    "            out.append(int(i))\n",
    "        except ValueError:\n",
    "            if not intonly:\n",
    "                out.append(i)\n",
    "    if isinstance(inp,tuple): return tuple(out)\n",
    "    else: return list(out)"
   ]
  },
  {
   "cell_type": "code",
   "execution_count": null,
   "metadata": {},
   "outputs": [
    {
     "name": "stdout",
     "output_type": "stream",
     "text": [
      "watch out string will be converted into list of characters and single digit ints\n"
     ]
    }
   ],
   "source": [
    "assert to_int([\"12\",2,'a']) == [12, 2, 'a']\n",
    "assert to_int([\"12\",2,'a'], intonly=True) == [12, 2]\n",
    "assert to_int([[[1],[-2,3]],[4,5,6]]) == [[[1], [-2, 3]], [4, 5, 6]]\n",
    "assert to_int('bla 202') == ['b', 'l', 'a', ' ', 2, 0, 2]"
   ]
  },
  {
   "cell_type": "code",
   "execution_count": null,
   "metadata": {},
   "outputs": [],
   "source": [
    "#export\n",
    "def ints(text: str) -> tuple[int]:\n",
    "    \"\"\"\n",
    "        Return a tuple of all the integers in a string\n",
    "    \"\"\"\n",
    "    return tuple(map(int, re.findall('-?[0-9]+', text)))"
   ]
  },
  {
   "cell_type": "code",
   "execution_count": null,
   "metadata": {},
   "outputs": [],
   "source": [
    "#export\n",
    "def flatten(x):\n",
    "    # recursive flattens the input. Returns a list\n",
    "    return list(_flatten(x))\n",
    "\n",
    "def _flatten(x):\n",
    "    for item in x:\n",
    "        if isinstance(item,Iterable) and not isinstance(item, str):\n",
    "            yield from _flatten(item)\n",
    "        else:\n",
    "            yield item"
   ]
  },
  {
   "cell_type": "code",
   "execution_count": null,
   "metadata": {},
   "outputs": [],
   "source": [
    "assert flatten([1,2,4,[99,33,[22,11]], 'f']) == [1, 2, 4, 99, 33, 22, 11, 'f']\n",
    "assert flatten([[[1],[2,3]],[4,5,6]]) == [1, 2, 3, 4, 5, 6]\n"
   ]
  },
  {
   "cell_type": "code",
   "execution_count": null,
   "metadata": {},
   "outputs": [],
   "source": [
    "#export\n",
    "def reverse_dict(d):\n",
    "    return {v:k for k,v in d.items()}"
   ]
  },
  {
   "cell_type": "code",
   "execution_count": null,
   "metadata": {},
   "outputs": [],
   "source": [
    "a = {(0,0):'f'}\n",
    "a |= reverse_dict(a)\n",
    "assert a == {(0, 0): 'f', 'f': (0, 0)}"
   ]
  },
  {
   "cell_type": "code",
   "execution_count": null,
   "metadata": {},
   "outputs": [],
   "source": [
    "#export\n",
    "def zippify(iterable, len=2, cat=False):\n",
    "    \"\"\"\n",
    "        Zips an iterable with arbitrary length pieces\n",
    "        e.g. to create a moving window with len n\n",
    "        Example:\n",
    "        zippify('abcd',2, cat=False)\n",
    "        --> [('a', 'b'), ('b', 'c'), ('c', 'd')]\n",
    "\n",
    "        If cat = True, joins the moving windows together\n",
    "        zippify('abcd',2, cat=True)\n",
    "        --> ['ab', 'bc', 'cd']\n",
    "    \"\"\"\n",
    "    iterable_collection = [iterable[i:] for i in range(len)]\n",
    "    res = list(zip(*iterable_collection))\n",
    "    return [''.join(r) for r in res] if cat else res"
   ]
  },
  {
   "cell_type": "code",
   "execution_count": null,
   "metadata": {},
   "outputs": [],
   "source": [
    "assert zippify('abcd',2, cat=True) == ['ab', 'bc', 'cd']\n",
    "assert zippify('abcd',2, cat=False) == [('a', 'b'), ('b', 'c'), ('c', 'd')]"
   ]
  },
  {
   "cell_type": "code",
   "execution_count": null,
   "metadata": {},
   "outputs": [],
   "source": [
    "# export \n",
    "def list_multiply(a,b):\n",
    "    \"\"\"\n",
    "        Multiplies two iterables elementwise\n",
    "        Returns a list\n",
    "\n",
    "        Example:\n",
    "        list_multiply([1,2,3],[2,3,4])\n",
    "        --> [2, 6, 12]\n",
    "    \"\"\"\n",
    "    return (np.array(a)*np.array(b)).tolist()\n"
   ]
  },
  {
   "cell_type": "code",
   "execution_count": null,
   "metadata": {},
   "outputs": [],
   "source": [
    "assert list_multiply([1,2,3],[2,3,4]) == [2, 6, 12]"
   ]
  },
  {
   "cell_type": "code",
   "execution_count": null,
   "metadata": {},
   "outputs": [
    {
     "name": "stdout",
     "output_type": "stream",
     "text": [
      "Converted 00_common.ipynb.\n",
      "Converted 01_grid.ipynb.\n",
      "Converted 02_maze.ipynb.\n",
      "Converted 03_math.ipynb.\n",
      "Converted 04_special.ipynb.\n",
      "Converted 05_norvig.ipynb.\n",
      "Converted 06_context_free_grammar.ipynb.\n",
      "Converted 07_shunting_yard.ipynb.\n",
      "Converted 10_datascience.ipynb.\n",
      "Converted index copy.ipynb.\n",
      "Converted 00_common.ipynb.\n",
      "Converted 01_grid.ipynb.\n",
      "Converted 02_maze.ipynb.\n",
      "Converted 03_math.ipynb.\n",
      "Converted 04_special.ipynb.\n",
      "Converted 05_norvig.ipynb.\n",
      "Converted 06_context_free_grammar.ipynb.\n",
      "Converted 07_shunting_yard.ipynb.\n",
      "Converted 10_datascience.ipynb.\n",
      "Converted index copy.ipynb.\n",
      "converting: d:\\Programmeren\\adventofcode\\aocutils\\00_common.ipynb\n",
      "converting: d:\\Programmeren\\adventofcode\\aocutils\\01_grid.ipynb\n",
      "converting: d:\\Programmeren\\adventofcode\\aocutils\\02_maze.ipynb\n",
      "converting: d:\\Programmeren\\adventofcode\\aocutils\\03_math.ipynb\n",
      "converting: d:\\Programmeren\\adventofcode\\aocutils\\04_special.ipynb\n",
      "converting: d:\\Programmeren\\adventofcode\\aocutils\\05_norvig.ipynb\n",
      "converting: d:\\Programmeren\\adventofcode\\aocutils\\06_context_free_grammar.ipynb\n",
      "converting: d:\\Programmeren\\adventofcode\\aocutils\\07_shunting_yard.ipynb\n",
      "converting: d:\\Programmeren\\adventofcode\\aocutils\\10_datascience.ipynb\n",
      "converting: d:\\Programmeren\\adventofcode\\aocutils\\index copy.ipynb\n",
      "Warning: Some of your Notebooks use the same title (['Advent of Code Utils', 'Advent of Code Utils', 'Advent of Code Utils', 'Advent of Code Utils', 'Advent of Code Utils', 'Peter Norvig AoC helper functions', 'Context free grammar', 'Title', 'Advent of Code Utils', 'My personal AoC lib']).\n"
     ]
    },
    {
     "name": "stderr",
     "output_type": "stream",
     "text": [
      "Traceback (most recent call last):\n",
      "  File \"C:\\Program Files\\Python310\\lib\\runpy.py\", line 196, in _run_module_as_main\n",
      "    return _run_code(code, main_globals, None,\n",
      "  File \"C:\\Program Files\\Python310\\lib\\runpy.py\", line 86, in _run_code\n",
      "    exec(code, run_globals)\n",
      "  File \"C:\\Users\\Gebruiker\\AppData\\Roaming\\Python\\Python310\\Scripts\\nbdev_build_docs.exe\\__main__.py\", line 7, in <module>\n",
      "  File \"C:\\Users\\Gebruiker\\AppData\\Roaming\\Python\\Python310\\site-packages\\fastcore\\script.py\", line 112, in _f\n",
      "    tfunc(**merge(args, args_from_prog(func, xtra)))\n",
      "  File \"C:\\Users\\Gebruiker\\AppData\\Roaming\\Python\\Python310\\site-packages\\nbdev\\export2html.py\", line 644, in nbdev_build_docs\n",
      "    if mk_readme: make_readme()\n",
      "  File \"C:\\Users\\Gebruiker\\AppData\\Roaming\\Python\\Python310\\site-packages\\nbdev\\export2html.py\", line 624, in make_readme\n",
      "    assert index_fn is not None, \"Could not locate index notebook\"\n",
      "AssertionError: Could not locate index notebook\n"
     ]
    },
    {
     "name": "stdout",
     "output_type": "stream",
     "text": [
      "[master 21ae78a] Commented common functions\n",
      " 41 files changed, 9297 insertions(+), 75 deletions(-)\n",
      " create mode 100644 00_common.ipynb\n",
      " delete mode 100644 00_core.ipynb\n",
      " create mode 100644 01_grid.ipynb\n",
      " create mode 100644 02_maze.ipynb\n",
      " create mode 100644 03_math.ipynb\n",
      " create mode 100644 04_special.ipynb\n",
      " create mode 100644 05_norvig.ipynb\n",
      " create mode 100644 06_context_free_grammar.ipynb\n",
      " create mode 100644 07_shunting_yard.ipynb\n",
      " create mode 100644 10_datascience.ipynb\n",
      " create mode 100644 Makefile\n",
      " create mode 100644 aocutils/__init__.py\n",
      " create mode 100644 aocutils/_nbdev.py\n",
      " create mode 100644 aocutils/aoc.py\n",
      " create mode 100644 aocutils/aoccfg.py\n",
      " create mode 100644 aocutils/aocnorvig.py\n",
      " create mode 100644 aocutils/archive/overall.ipynb\n",
      " create mode 100644 aocutils/common.py\n",
      " create mode 100644 aocutils/core.py\n",
      " create mode 100644 aocutils/datascience.py\n",
      " create mode 100644 aocutils/grid.py\n",
      " create mode 100644 aocutils/math.py\n",
      " create mode 100644 aocutils/maze.py\n",
      " create mode 100644 aocutils/special.py\n",
      " create mode 100644 docs/_config.yml\n",
      " create mode 100644 docs/_data/sidebars/home_sidebar.yml\n",
      " create mode 100644 docs/_data/topnav.yml\n",
      " create mode 100644 docs/common.html\n",
      " create mode 100644 docs/context_free_grammar.html\n",
      " create mode 100644 docs/datascience.html\n",
      " create mode 100644 docs/grid.html\n",
      " create mode 100644 docs/index copy.html\n",
      " create mode 100644 docs/math.html\n",
      " create mode 100644 docs/maze.html\n",
      " create mode 100644 docs/norvig.html\n",
      " create mode 100644 docs/shunting_yard.html\n",
      " create mode 100644 docs/sidebar.json\n",
      " create mode 100644 docs/special.html\n",
      " rename index.ipynb => index copy.ipynb (72%)\n",
      " create mode 100644 test.txt\n"
     ]
    },
    {
     "name": "stderr",
     "output_type": "stream",
     "text": [
      "To https://github.com/jvanelteren/aoc_test.git\n",
      "   1922515..21ae78a  master -> master\n"
     ]
    }
   ],
   "source": [
    "#hide\n",
    "from nbdev.export import notebook2script; \n",
    "notebook2script()\n",
    "!nbdev_build_lib\n",
    "!nbdev_build_docs\n",
    "!nbdev_clean_nbs\n",
    "!git add .\n",
    "!git commit -am \"Commented common functions\"\n",
    "!git push"
   ]
  },
  {
   "cell_type": "code",
   "execution_count": null,
   "metadata": {},
   "outputs": [],
   "source": []
  }
 ],
 "metadata": {
  "kernelspec": {
   "display_name": "Python 3.7.3 64-bit ('base': conda)",
   "language": "python",
   "name": "python3"
  }
 },
 "nbformat": 4,
 "nbformat_minor": 2
}
