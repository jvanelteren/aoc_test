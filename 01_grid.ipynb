{
 "cells": [
  {
   "cell_type": "code",
   "execution_count": null,
   "metadata": {},
   "outputs": [],
   "source": [
    "# default_exp grid\n",
    "from nbdev import *\n",
    "from nbdev.showdoc import *"
   ]
  },
  {
   "cell_type": "markdown",
   "metadata": {},
   "source": [
    "# Advent of Code Utils\n",
    "\n",
    "> A collection of somewhat handy functions to make your AoC puzzle life solving a bit easier"
   ]
  },
  {
   "cell_type": "code",
   "execution_count": null,
   "metadata": {},
   "outputs": [],
   "source": [
    "#exporti\n",
    "from collections.abc import Iterable\n",
    "from collections import namedtuple, deque\n",
    "import contextlib\n",
    "from functools import reduce\n",
    "import hashlib\n",
    "import heapq\n",
    "import logging\n",
    "from math import sqrt, gcd\n",
    "from pathlib import Path\n",
    "import time\n",
    "import pickle\n",
    "import pandas as pd\n",
    "import numpy as np\n",
    "\n",
    "DATA_DIR = Path('data')"
   ]
  },
  {
   "cell_type": "code",
   "execution_count": null,
   "metadata": {},
   "outputs": [],
   "source": [
    "#export\n",
    "def arr_to_dict(arr):\n",
    "    \"\"\"\n",
    "        takes in an numpy array or list and returns a dictionary with indices, values\n",
    "    \"\"\"\n",
    "    d = {}\n",
    "    for i in range(len(arr)):\n",
    "        for j in range(len(arr[0])):\n",
    "            d[(i,j)] = arr[i][j]\n",
    "    return d\n"
   ]
  },
  {
   "cell_type": "markdown",
   "metadata": {},
   "source": [
    "## Grid helpers"
   ]
  },
  {
   "cell_type": "code",
   "execution_count": null,
   "metadata": {},
   "outputs": [],
   "source": [
    "#export\n",
    "def grid2dict(grid):\n",
    "    if isinstance(grid, str):\n",
    "        grid = [list(line) for line in grid.split('\\n')]\n",
    "    return {(r,c): val for r, row in enumerate(grid) for c, val in enumerate(row)}"
   ]
  },
  {
   "cell_type": "code",
   "execution_count": null,
   "metadata": {},
   "outputs": [],
   "source": [
    "assert grid2dict([[1,2,3],[4,5,6]]) == {(0, 0): 1, (0, 1): 2, (0, 2): 3, (1, 0): 4, (1, 1): 5, (1, 2): 6}"
   ]
  },
  {
   "cell_type": "code",
   "execution_count": null,
   "metadata": {},
   "outputs": [],
   "source": [
    "assert grid2dict('1r3\\n456') == {(0, 0): '1', (0, 1): 'r', (0, 2): '3', (1, 0): '4', (1, 1): '5', (1, 2): '6'}"
   ]
  },
  {
   "cell_type": "code",
   "execution_count": null,
   "metadata": {},
   "outputs": [],
   "source": [
    "#export\n",
    "def neighbors(i, diag = False,inc_self=False):\n",
    "    \"\"\"\n",
    "     determine the neighbors, returns a set with neighboring tuples {(0,1)}\n",
    "     if inc_self: returns self in results\n",
    "     if diag: return diagonal moves as well\n",
    "    \"\"\"\n",
    "    r = [1,0,-1]\n",
    "    c = [1,-1,0]\n",
    "    if diag:\n",
    "        if inc_self: \n",
    "            return {(i[0]+dr, i[1]+dc) for dr in r for dc in c}\n",
    "        else: \n",
    "            return {(i[0]+dr, i[1]+dc) for dr in r for dc in c if not (dr == 0 and dc == 0)}\n",
    "    else:\n",
    "        res =  {(i[0],i[1]+1), (i[0],i[1]-1),(i[0]+1,i[1]),(i[0]-1,i[1])}\n",
    "        if inc_self: res.add(i)\n",
    "        return res"
   ]
  },
  {
   "cell_type": "code",
   "execution_count": null,
   "metadata": {},
   "outputs": [],
   "source": [
    "# 4 and 5 tuples\n",
    "assert neighbors((0,0), inc_self=False, diag=False) == {(0, 1), (0, -1), (1, 0), (-1, 0)}\n",
    "assert neighbors((0,0), inc_self=True, diag=False) == {(0, 1), (0, -1), (1, 0), (-1, 0), (0, 0)}\n",
    "# # 8 and 9 tuples\n",
    "assert neighbors((0,0), inc_self=False, diag=True) == {(-1, -1), (-1, 0), (-1, 1), (0, -1), (0, 1), (1, -1), (1, 0), (1, 1)}\n",
    "assert neighbors((0,0), inc_self=True, diag=True) == {(1, 1), (1, -1), (1, 0), (0, 1), (0, -1), (0, 0), (-1, 1), (-1, -1), (-1, 0)}\n"
   ]
  },
  {
   "cell_type": "code",
   "execution_count": null,
   "metadata": {},
   "outputs": [],
   "source": [
    "#export\n",
    "def arr_neighbors(arr, diag=False, inc_self=False):\n",
    "    \"\"\"\n",
    "    Returns a dictionary with index: set of neighbor indices\n",
    "    Parameters: diag to include diagonal neighbors, inc_self to include self in result list\n",
    "    Usage: for index, neighbor_indices in aoc.arr_neighbors(arr).items():\n",
    "    \"\"\"\n",
    "    if not isinstance(arr, np.ndarray):\n",
    "        arr = np.array(arr)\n",
    "    res = {}\n",
    "    for i in np.ndindex(arr.shape):\n",
    "        # print('hi',i, neighbors(i,diag))\n",
    "        res[i] = {(x,y) for x,y in neighbors(i,diag, inc_self) if 0<=x<arr.shape[0] and 0<=y<arr.shape[1]}\n",
    "    return res\n"
   ]
  },
  {
   "cell_type": "code",
   "execution_count": null,
   "metadata": {},
   "outputs": [
    {
     "name": "stdout",
     "output_type": "stream",
     "text": [
      "[[0 1 2]\n",
      " [3 4 5]\n",
      " [6 7 8]] (3, 3)\n",
      "hi (0, 0) {(0, 1), (-1, 1), (-1, 0), (-1, -1), (0, -1), (1, 0), (1, -1), (1, 1)}\n",
      "hi (0, 1) {(1, 2), (-1, 1), (0, 0), (-1, 0), (-1, 2), (1, 1), (1, 0), (0, 2)}\n",
      "hi (0, 2) {(1, 2), (0, 1), (-1, 1), (1, 3), (-1, 3), (-1, 2), (0, 3), (1, 1)}\n",
      "hi (1, 0) {(0, 1), (0, 0), (2, -1), (2, 1), (2, 0), (0, -1), (1, -1), (1, 1)}\n",
      "hi (1, 1) {(1, 2), (0, 1), (0, 0), (2, 1), (2, 0), (2, 2), (1, 0), (0, 2)}\n",
      "hi (1, 2) {(0, 1), (1, 3), (0, 2), (2, 1), (2, 3), (2, 2), (0, 3), (1, 1)}\n",
      "hi (2, 0) {(3, 0), (2, -1), (3, 1), (2, 1), (3, -1), (1, 0), (1, -1), (1, 1)}\n",
      "hi (2, 1) {(1, 2), (3, 2), (3, 0), (3, 1), (2, 0), (2, 2), (1, 0), (1, 1)}\n",
      "hi (2, 2) {(1, 2), (3, 2), (1, 3), (3, 3), (3, 1), (2, 1), (2, 3), (1, 1)}\n"
     ]
    },
    {
     "data": {
      "text/plain": [
       "{(0, 0): {(0, 1), (1, 0), (1, 1)},\n",
       " (0, 1): {(0, 0), (0, 2), (1, 0), (1, 1), (1, 2)},\n",
       " (0, 2): {(0, 1), (1, 1), (1, 2)},\n",
       " (1, 0): {(0, 0), (0, 1), (1, 1), (2, 0), (2, 1)},\n",
       " (1, 1): {(0, 0), (0, 1), (0, 2), (1, 0), (1, 2), (2, 0), (2, 1), (2, 2)},\n",
       " (1, 2): {(0, 1), (0, 2), (1, 1), (2, 1), (2, 2)},\n",
       " (2, 0): {(1, 0), (1, 1), (2, 1)},\n",
       " (2, 1): {(1, 0), (1, 1), (1, 2), (2, 0), (2, 2)},\n",
       " (2, 2): {(1, 1), (1, 2), (2, 1)}}"
      ]
     },
     "execution_count": null,
     "metadata": {},
     "output_type": "execute_result"
    }
   ],
   "source": [
    "a = np.arange(9).reshape(3,3).astype(object)\n",
    "print(a,a.shape)\n",
    "n = (arr_neighbors(a))\n",
    "n\n",
    "\n"
   ]
  },
  {
   "cell_type": "code",
   "execution_count": null,
   "metadata": {},
   "outputs": [],
   "source": [
    "#export\n",
    "def iterate(grid):\n",
    "    for i,row in enumerate(grid):\n",
    "        for j,val in enumerate(row):\n",
    "            yield i,j,val"
   ]
  },
  {
   "cell_type": "code",
   "execution_count": null,
   "metadata": {},
   "outputs": [],
   "source": [
    "#export\n",
    "\n",
    "Dim = namedtuple('Dim',['min','max','range'])\n",
    "def dimensions(obj): \n",
    "    \"\"\"\n",
    "     takes an iterable of iterables and returns a namedtuple with minima, maxima and range\n",
    "     for example a 2d numpy array\n",
    "     dim.min, dim.max and dim.range\n",
    "    \"\"\"\n",
    "    minim = tuple(min(obj,key = lambda x:x[i])[i] for i in range(len(obj[0])))\n",
    "    maxim = tuple(max(obj,key = lambda x:x[i])[i] for i in range(len(obj[0])))# max for dimensions\n",
    "    ranges = tuple(maxim[i] - minim[i]  for i in range(len(obj[0])))\n",
    "    res = Dim(minim,maxim,ranges)\n",
    "    return res"
   ]
  },
  {
   "cell_type": "code",
   "execution_count": null,
   "metadata": {},
   "outputs": [],
   "source": [
    "assert dimensions([[1,2,3],[10,9,8]]) == Dim(min=(1, 2, 3), max=(10, 9, 8), range=(9, 7, 5))"
   ]
  },
  {
   "cell_type": "markdown",
   "metadata": {},
   "source": [
    "Example"
   ]
  },
  {
   "cell_type": "code",
   "execution_count": null,
   "metadata": {},
   "outputs": [
    {
     "data": {
      "text/plain": [
       "(1, 2, 3)"
      ]
     },
     "execution_count": null,
     "metadata": {},
     "output_type": "execute_result"
    }
   ],
   "source": [
    "out = dimensions([[1,2,3],[10,9,8]])\n",
    "out.min"
   ]
  },
  {
   "cell_type": "code",
   "execution_count": null,
   "metadata": {},
   "outputs": [],
   "source": [
    "#export\n",
    "def positive(*args): \n",
    "    \"\"\" \n",
    "        takes 1 or multiple lists of n coordinates and returns it normalized (getting rid of negatives)\n",
    "    \"\"\"\n",
    "    dtype = type(args[0][0]) # support list(s) of lists and list(s) of tuples\n",
    "    if len(args)==1: # only 1 argument passed\n",
    "        dim = dimensions(args[0])\n",
    "        obj = args[0]\n",
    "        if dtype == tuple:\n",
    "            return [tuple(o[i]-dim.min[i] for i in range(len(obj[0]))) for o in obj]\n",
    "        if dtype == list:\n",
    "            return [[o[i]-dim.min[i] for i in range(len(obj[0]))] for o in obj]\n",
    "        else: print('no support for dtype',dtype)\n",
    "    else: # multiple arguments passed\n",
    "        dim = dimensions([i for a in args for i in a])\n",
    "        if dtype == tuple:\n",
    "            return ([tuple(o[i]-dim.min[i] for i in range(len(obj[0]))) for o in obj] for obj in args)\n",
    "\n",
    "        if dtype == list: \n",
    "            return ([[o[i]-dim.min[i] for i in range(len(obj[0]))] for o in obj] for obj in args)\n",
    "        else: print('no support for dtype',dtype)\n"
   ]
  },
  {
   "cell_type": "markdown",
   "metadata": {},
   "source": [
    "positive() will only make changes along axis where negative values are detected"
   ]
  },
  {
   "cell_type": "code",
   "execution_count": null,
   "metadata": {},
   "outputs": [],
   "source": [
    "assert positive([(0,0,0,-4),(0,0,-10,0),(0,0,0,0)]) == [(0, 0, 10, 0), (0, 0, 0, 4), (0, 0, 10, 4)]"
   ]
  },
  {
   "cell_type": "code",
   "execution_count": null,
   "metadata": {},
   "outputs": [],
   "source": [
    "#export\n",
    "def manhattan(x,y):\n",
    "    return abs(x[0]-y[0])+abs(x[1]-y[1])"
   ]
  },
  {
   "cell_type": "code",
   "execution_count": null,
   "metadata": {},
   "outputs": [],
   "source": [
    "assert manhattan((10,10),(-1,11)) == 12"
   ]
  },
  {
   "cell_type": "code",
   "execution_count": null,
   "metadata": {},
   "outputs": [],
   "source": [
    "#export\n",
    "def conv1d(arr,conv_shape,mode='same',padding=None,pad_dir='center') ->list:\n",
    "    \"\"\"\n",
    "    Returns a list of kernel views of a string or list \n",
    "    mode == 'valid': returns only results where the kernel fits\n",
    "    mode == 'same': return the same amount of items as original\n",
    "    when mode =='same', default padding is the outer value\n",
    "    \"\"\"\n",
    "    if padding:\n",
    "        to_pad = padding # user specified padding\n",
    "    else:\n",
    "        to_pad = arr[0] # begin or end of list\n",
    "\n",
    "    if isinstance(arr,list): # to convert a list temporarily to string\n",
    "        arr_is_list = True\n",
    "    else:\n",
    "        arr_is_list = False\n",
    "\n",
    "    if mode == 'valid':\n",
    "        pass\n",
    "\n",
    "    p_size = conv_shape//2\n",
    "    if mode == 'same':\n",
    "        if arr_is_list:\n",
    "            arr = ''.join(arr)\n",
    "        if isinstance(arr,str): #here the padding is applied\n",
    "            if pad_dir == 'center':\n",
    "                arr = to_pad*p_size+arr+to_pad*p_size\n",
    "            if pad_dir == 'left':\n",
    "                arr = to_pad*(conv_shape-1)+arr\n",
    "            if pad_dir == 'right':\n",
    "                arr = arr+to_pad*(conv_shape-1)\n",
    "        else:\n",
    "            return 'only string and list supported'\n",
    "        if arr_is_list:\n",
    "            arr = list(arr)\n",
    "\n",
    "    if conv_shape % 2 == 1: # odd conv_shape\n",
    "        return [arr[i-p_size:i+p_size+1] for i in range(p_size,len(arr)-p_size)]\n",
    "    else: # even conv_shape\n",
    "        return [arr[i:i+conv_shape] for i in range(0,len(arr)-conv_shape+1)]\n"
   ]
  },
  {
   "cell_type": "code",
   "execution_count": null,
   "metadata": {},
   "outputs": [],
   "source": [
    "assert conv1d(\"12345\",3,mode='valid' == ['123', '234', '345'])\n"
   ]
  },
  {
   "cell_type": "code",
   "execution_count": null,
   "metadata": {},
   "outputs": [],
   "source": [
    "#export\n",
    "def conv2d(arr,conv_shape,mode='valid',padding=None,pad_dir='center') ->list:\n",
    "    \"\"\"\n",
    "    Returns a list of kernel views of a string or list \n",
    "    mode == 'valid': returns only results where the kernel fits\n",
    "    mode == 'same': return the same amount of items as original\n",
    "    when mode =='same', default padding is the outer value\n",
    "    \"\"\"\n",
    "    if padding:\n",
    "        to_pad = padding # user specified padding\n",
    "    else:\n",
    "        to_pad = arr[0] # begin or end of list\n",
    "\n",
    "    if isinstance(arr,list) or isinstance(arr,np.ndarray): # to convert a list to numpy array\n",
    "        arr_is_list = True\n",
    "    else:\n",
    "        arr_is_list = False\n",
    "\n",
    "    if mode == 'valid':\n",
    "        pass\n",
    "\n",
    "    p_size = conv_shape//2\n",
    "    if mode == 'same':\n",
    "        if arr_is_list:\n",
    "            arr = np.array(arr)\n",
    "        if isinstance(arr,str): #here the padding is applied\n",
    "            if pad_dir == 'center':\n",
    "                arr = to_pad*p_size+arr+to_pad*p_size\n",
    "            if pad_dir == 'left':\n",
    "                arr = to_pad*(conv_shape-1)+arr\n",
    "            if pad_dir == 'right':\n",
    "                arr = arr+to_pad*(conv_shape-1)\n",
    "        else:\n",
    "            return 'only string and list supported'\n",
    "        if arr_is_list:\n",
    "            arr = list(arr)\n",
    "\n",
    "    if conv_shape % 2 == 1: # odd conv_shape\n",
    "        return [arr[i-p_size:i+p_size+1] for i in range(p_size,len(arr)-p_size)]\n",
    "    else: # even conv_shape\n",
    "        return [arr[i:i+conv_shape] for i in range(0,len(arr)-conv_shape+1)]\n"
   ]
  },
  {
   "cell_type": "code",
   "execution_count": null,
   "metadata": {},
   "outputs": [
    {
     "data": {
      "text/plain": [
       "[]"
      ]
     },
     "execution_count": null,
     "metadata": {},
     "output_type": "execute_result"
    }
   ],
   "source": [
    "conv2d(np.array([np.arange(9).reshape(3,3)]), conv_shape=2)\n"
   ]
  },
  {
   "cell_type": "code",
   "execution_count": null,
   "metadata": {},
   "outputs": [
    {
     "name": "stdout",
     "output_type": "stream",
     "text": [
      "Converted 00_core.ipynb.\n",
      "Converted 01_context_free_grammar.ipynb.\n",
      "Converted 02_norvig.ipynb.\n",
      "Converted index.ipynb.\n",
      "Converted 00_core.ipynb.\n",
      "Converted 01_context_free_grammar.ipynb.\n",
      "Converted 02_norvig.ipynb.\n",
      "Converted index.ipynb.\n",
      "converting: d:\\Documenten\\GitHub\\adventofcode\\aocutils\\00_core.ipynb\n",
      "converting: d:\\Documenten\\GitHub\\adventofcode\\aocutils\\01_context_free_grammar.ipynb\n",
      "converting: d:\\Documenten\\GitHub\\adventofcode\\aocutils\\02_norvig.ipynb\n",
      "converting: d:\\Documenten\\GitHub\\adventofcode\\aocutils\\index.ipynb\n",
      "converting d:\\Documenten\\GitHub\\adventofcode\\aocutils\\index.ipynb to README.md\n",
      "[main 47c0ec4] change future upwards\n",
      " 3 files changed, 14 insertions(+), 7 deletions(-)\n",
      "To https://github.com/jvanelteren/aocutils.git\n",
      "   68e7b8a..47c0ec4  main -> main\n"
     ]
    }
   ],
   "source": [
    "#hide\n",
    "from nbdev.export import notebook2script; \n",
    "notebook2script()\n",
    "!nbdev_build_lib\n",
    "!nbdev_build_docs\n",
    "!nbdev_clean_nbs\n",
    "!git add .\n",
    "!git commit -am \"change future upwards\"\n",
    "!git push"
   ]
  },
  {
   "cell_type": "code",
   "execution_count": null,
   "metadata": {},
   "outputs": [],
   "source": []
  }
 ],
 "metadata": {
  "kernelspec": {
   "display_name": "Python 3.7.3 64-bit ('base': conda)",
   "language": "python",
   "name": "python3"
  }
 },
 "nbformat": 4,
 "nbformat_minor": 2
}
