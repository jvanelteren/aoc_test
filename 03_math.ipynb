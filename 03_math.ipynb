{
 "cells": [
  {
   "cell_type": "code",
   "execution_count": null,
   "metadata": {},
   "outputs": [],
   "source": [
    "# default_exp math\n",
    "from nbdev import *\n",
    "from nbdev.showdoc import *"
   ]
  },
  {
   "cell_type": "markdown",
   "metadata": {},
   "source": [
    "# Advent of Code Utils\n",
    "\n",
    "> A collection of somewhat handy functions to make your AoC puzzle life solving a bit easier"
   ]
  },
  {
   "cell_type": "code",
   "execution_count": null,
   "metadata": {},
   "outputs": [],
   "source": [
    "#exporti\n",
    "from collections.abc import Iterable\n",
    "from collections import namedtuple, deque\n",
    "import contextlib\n",
    "from functools import reduce\n",
    "import hashlib\n",
    "import heapq\n",
    "import logging\n",
    "from math import sqrt, gcd\n",
    "from pathlib import Path\n",
    "import time\n",
    "import pickle\n",
    "import pandas as pd\n",
    "import numpy as np\n"
   ]
  },
  {
   "cell_type": "markdown",
   "metadata": {},
   "source": [
    "## Mathy functions"
   ]
  },
  {
   "cell_type": "code",
   "execution_count": null,
   "metadata": {},
   "outputs": [],
   "source": [
    "#export\n",
    "def factors(n):\n",
    "    \"\"\"\n",
    "     return set of divisors of a number\n",
    "    \"\"\"\n",
    "\n",
    "    step = 2 if n%2 else 1\n",
    "    return set(reduce(list.__add__,\n",
    "                ([i, n//i] for i in range(1, int(sqrt(n))+1, step) if n % i == 0)))\n"
   ]
  },
  {
   "cell_type": "code",
   "execution_count": null,
   "metadata": {},
   "outputs": [],
   "source": [
    "assert factors(20) == {1, 2, 4, 5, 10, 20}\n"
   ]
  },
  {
   "cell_type": "code",
   "execution_count": null,
   "metadata": {},
   "outputs": [],
   "source": [
    "#export\n",
    "def gcd(a,b):\n",
    "    largest = max(a,b)\n",
    "    smallest = min(a,b)\n",
    "    while True:\n",
    "        rest = largest % smallest\n",
    "        if rest == 0:\n",
    "            return prevrest\n",
    "        else:\n",
    "            prevrest = rest\n",
    "            largest = smallest\n",
    "            smallest = rest\n",
    "\n",
    "def lcm(a):\n",
    "    lcm = a[0]\n",
    "    for i in a[1:]:\n",
    "        lcm = lcm*i//gcd(lcm, i)\n",
    "    return lcm\n",
    "\n"
   ]
  },
  {
   "cell_type": "code",
   "execution_count": null,
   "metadata": {},
   "outputs": [],
   "source": [
    "assert gcd(12,8) == 4\n",
    "assert lcm([4,6,7]) == 84"
   ]
  },
  {
   "cell_type": "code",
   "execution_count": null,
   "metadata": {},
   "outputs": [
    {
     "data": {
      "text/plain": [
       "5"
      ]
     },
     "execution_count": null,
     "metadata": {},
     "output_type": "execute_result"
    }
   ],
   "source": [
    "a = [1,2,3,8,8,8,2,3]\n",
    "a.index(8)\n",
    "len(a) - 1 - a[::-1].index(8)"
   ]
  },
  {
   "cell_type": "code",
   "execution_count": null,
   "metadata": {},
   "outputs": [
    {
     "name": "stdout",
     "output_type": "stream",
     "text": [
      "a 9\n",
      "b 6\n",
      "a 81\n",
      "b 3\n",
      "res 81\n",
      "a 6561\n",
      "b 1\n",
      "res 531441\n",
      "a 43046721\n",
      "b 0\n"
     ]
    },
    {
     "data": {
      "text/plain": [
       "531441"
      ]
     },
     "execution_count": null,
     "metadata": {},
     "output_type": "execute_result"
    }
   ],
   "source": [
    "def power(a,b,M=None):\n",
    "    # computes a**b. Actually python pow does this with optional third argument\n",
    "    res = 1\n",
    "    while(b):\n",
    "        if b % 2 == 1: \n",
    "            res = (res * a) % M if M else res * a\n",
    "            print('res',res)\n",
    "        a *= a\n",
    "        print('a',a)\n",
    "        b //= 2\n",
    "        print('b',b)\n",
    "    return res\n",
    "power(3,12)"
   ]
  },
  {
   "cell_type": "code",
   "execution_count": null,
   "metadata": {},
   "outputs": [],
   "source": []
  },
  {
   "cell_type": "code",
   "execution_count": null,
   "metadata": {},
   "outputs": [
    {
     "name": "stdout",
     "output_type": "stream",
     "text": [
      "Converted 00_core.ipynb.\n",
      "Converted 01_context_free_grammar.ipynb.\n",
      "Converted 02_norvig.ipynb.\n",
      "Converted index.ipynb.\n",
      "Converted 00_core.ipynb.\n",
      "Converted 01_context_free_grammar.ipynb.\n",
      "Converted 02_norvig.ipynb.\n",
      "Converted index.ipynb.\n",
      "converting: d:\\Documenten\\GitHub\\adventofcode\\aocutils\\00_core.ipynb\n",
      "converting: d:\\Documenten\\GitHub\\adventofcode\\aocutils\\01_context_free_grammar.ipynb\n",
      "converting: d:\\Documenten\\GitHub\\adventofcode\\aocutils\\02_norvig.ipynb\n",
      "converting: d:\\Documenten\\GitHub\\adventofcode\\aocutils\\index.ipynb\n",
      "converting d:\\Documenten\\GitHub\\adventofcode\\aocutils\\index.ipynb to README.md\n",
      "[main 47c0ec4] change future upwards\n",
      " 3 files changed, 14 insertions(+), 7 deletions(-)\n",
      "To https://github.com/jvanelteren/aocutils.git\n",
      "   68e7b8a..47c0ec4  main -> main\n"
     ]
    }
   ],
   "source": [
    "#hide\n",
    "from nbdev.export import notebook2script; \n",
    "notebook2script()\n",
    "!nbdev_build_lib\n",
    "!nbdev_build_docs\n",
    "!nbdev_clean_nbs\n",
    "!git add .\n",
    "!git commit -am \"change future upwards\"\n",
    "!git push"
   ]
  },
  {
   "cell_type": "code",
   "execution_count": null,
   "metadata": {},
   "outputs": [],
   "source": []
  }
 ],
 "metadata": {
  "kernelspec": {
   "display_name": "Python 3.7.3 64-bit ('base': conda)",
   "language": "python",
   "name": "python3"
  }
 },
 "nbformat": 4,
 "nbformat_minor": 2
}
